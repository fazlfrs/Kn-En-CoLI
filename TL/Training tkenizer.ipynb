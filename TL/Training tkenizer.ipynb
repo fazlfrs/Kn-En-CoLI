{
 "cells": [
  {
   "cell_type": "code",
   "execution_count": 1,
   "metadata": {},
   "outputs": [
    {
     "name": "stdout",
     "output_type": "stream",
     "text": [
      "Requirement already satisfied: sentencepiece in c:\\users\\fazl\\anaconda3\\lib\\site-packages (0.1.92)\n"
     ]
    }
   ],
   "source": [
    "!pip install sentencepiece"
   ]
  },
  {
   "cell_type": "code",
   "execution_count": 14,
   "metadata": {},
   "outputs": [],
   "source": [
    "import sentencepiece as spm"
   ]
  },
  {
   "cell_type": "code",
   "execution_count": 15,
   "metadata": {},
   "outputs": [],
   "source": [
    "TA_WIKI_PATH = 'knen/'"
   ]
  },
  {
   "cell_type": "code",
   "execution_count": 16,
   "metadata": {},
   "outputs": [],
   "source": [
    "import glob\n",
    "flist = glob.glob(TA_WIKI_PATH+'*')"
   ]
  },
  {
   "cell_type": "code",
   "execution_count": 17,
   "metadata": {},
   "outputs": [
    {
     "data": {
      "text/plain": [
       "['knen\\\\rawtext.txt']"
      ]
     },
     "execution_count": 17,
     "metadata": {},
     "output_type": "execute_result"
    }
   ],
   "source": [
    "flist"
   ]
  },
  {
   "cell_type": "code",
   "execution_count": 18,
   "metadata": {},
   "outputs": [
    {
     "name": "stdout",
     "output_type": "stream",
     "text": [
      "knen\\rawtext.txt\n",
      "good message for the society\n",
      "movie nalli continuation illa\n",
      "nijavagalu super guru\n",
      "concept making camera work yalha changi but madhu gowda havr acting aylko range nali\n",
      "nice but voice yar act madidaro avr atrane dub madsi hage acting swalpa invol agi nyc msg\n",
      "undu edde movie thunaga twist undu next dada malper good big screen superrr\n",
      "sprb sandy and manu\n",
      "super baby cute voice yavudu putta thoomba changi matdtiya\n",
      "doubing not perfect\n",
      "yella mamuli jagakke banbudi\n",
      "madhu only follower roposo\n",
      "really like this movie you more all the best\n",
      "super movie brother and sisiter all the best bro and sis\n",
      "superb all the best team\n",
      "movie adre evaga map update agidhe without data direction torsutte\n",
      "thanks for your you please explain that can improvise our next\n",
      "filmy academy nothing jst kidding about map dialogue and than rest off everything well\n",
      "naik thanks for your supporting\n",
      "script was awesome the implementation was bit acting alli feeling touch supperb\n",
      "where the police friend\n",
      "you not have acting spride\n",
      "god th\n"
     ]
    }
   ],
   "source": [
    "import random\n",
    "\n",
    "fname=random.choice(flist)\n",
    "print(fname)\n",
    "with open(fname, encoding='utf-8') as f:\n",
    "    text = f.read()\n",
    "print(text[:1000])"
   ]
  },
  {
   "cell_type": "code",
   "execution_count": 19,
   "metadata": {},
   "outputs": [
    {
     "data": {
      "text/plain": [
       "'knen\\\\rawtext.txt'"
      ]
     },
     "execution_count": 19,
     "metadata": {},
     "output_type": "execute_result"
    }
   ],
   "source": [
    "flist2=','.join(flist)\n",
    "flist2[:200]"
   ]
  },
  {
   "cell_type": "code",
   "execution_count": 21,
   "metadata": {},
   "outputs": [],
   "source": [
    "spm.SentencePieceTrainer.Train(f'--input={flist2} --model_prefix=kn_en_spm_10k --vocab_size=10000')"
   ]
  },
  {
   "cell_type": "code",
   "execution_count": null,
   "metadata": {},
   "outputs": [],
   "source": []
  }
 ],
 "metadata": {
  "kernelspec": {
   "display_name": "Python 3",
   "language": "python",
   "name": "python3"
  },
  "language_info": {
   "codemirror_mode": {
    "name": "ipython",
    "version": 3
   },
   "file_extension": ".py",
   "mimetype": "text/x-python",
   "name": "python",
   "nbconvert_exporter": "python",
   "pygments_lexer": "ipython3",
   "version": "3.7.3"
  }
 },
 "nbformat": 4,
 "nbformat_minor": 2
}
